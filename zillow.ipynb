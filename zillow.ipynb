{
 "cells": [
  {
   "cell_type": "code",
   "execution_count": 150,
   "id": "bef11b8c",
   "metadata": {},
   "outputs": [],
   "source": [
    "import pandas as pd\n",
    "import numpy as np\n",
    "import matplotlib.pyplot as plt\n",
    "import seaborn as sns\n",
    "\n",
    "from acquire import wrangle_zillow\n",
    "from prepare import remove_outliers, train_val_test, x_y_split\n",
    "\n",
    "import warnings\n",
    "warnings.filterwarnings('ignore')\n",
    "\n",
    "from scipy.stats import stats\n",
    "from env import get_connection\n",
    "import os"
   ]
  },
  {
   "cell_type": "code",
   "execution_count": 151,
   "id": "6f1f487f",
   "metadata": {},
   "outputs": [],
   "source": [
    "def get_zillow_data():\n",
    "    \n",
    "    '''\n",
    "    This function is used to get zillow data from sql database.\n",
    "    '''\n",
    "    \n",
    "    if os.path.isfile('zillow.csv'):\n",
    "        \n",
    "        return pd.read_csv('zillow.csv')\n",
    "    \n",
    "    else:\n",
    "        \n",
    "        url = get_connection('zillow')\n",
    "        query = '''\n",
    "                SELECT * FROM properties_2017\n",
    "                LEFT JOIN airconditioningtype USING(airconditioningtypeid)\n",
    "                LEFT JOIN architecturalstyletype USING(architecturalstyletypeid)\n",
    "                LEFT JOIN buildingclasstype USING(buildingclasstypeid)\n",
    "                LEFT JOIN heatingorsystemtype USING(heatingorsystemtypeid)\n",
    "                LEFT JOIN predictions_2017 USING(parcelid)\n",
    "                LEFT JOIN propertylandusetype USING(propertylandusetypeid)\n",
    "                LEFT JOIN storytype USING(storytypeid)\n",
    "                LEFT JOIN typeconstructiontype USING(typeconstructiontypeid)\n",
    "                WHERE transactiondate LIKE '2017%%'\n",
    "                AND latitude IS NOT NULL\n",
    "                AND longitude IS NOT NULL;\n",
    "                '''\n",
    "        df = pd.read_sql(query, url)\n",
    "        df.to_csv('zillow.csv')\n",
    "        return df"
   ]
  },
  {
   "cell_type": "code",
   "execution_count": 175,
   "id": "c88eb858",
   "metadata": {},
   "outputs": [],
   "source": [
    "def drop_duplicates(df):\n",
    "    \n",
    "    df.drop(columns=['Unnamed: 0', 'id.1'], inplace=True)\n",
    "    \n",
    "    df = df.sort_values('transactiondate')\n",
    "    df = df[df.duplicated(subset=['parcelid'], keep='last')==False]\n",
    "    \n",
    "    return df"
   ]
  },
  {
   "cell_type": "code",
   "execution_count": 156,
   "id": "f7e3c6b4",
   "metadata": {},
   "outputs": [],
   "source": [
    "def missing_values(df):\n",
    "    \n",
    "    missing_df = pd.DataFrame(df.isna().sum(), columns=['num_rows_missing'])\n",
    "    \n",
    "    missing_df['pct_rows_missing'] = missing_df['num_rows_missing'] / len(df)\n",
    "    \n",
    "    return missing_df"
   ]
  },
  {
   "cell_type": "markdown",
   "id": "860685b6",
   "metadata": {},
   "source": [
    "## Prepare"
   ]
  },
  {
   "cell_type": "code",
   "execution_count": 158,
   "id": "56a2234d",
   "metadata": {},
   "outputs": [],
   "source": [
    "def sfh(df):\n",
    "    \n",
    "    sp = [261, 266, 263, 275, 264]\n",
    "    df = df[df['propertylandusetypeid'].isin(sp)]\n",
    "    return df"
   ]
  },
  {
   "cell_type": "code",
   "execution_count": 168,
   "id": "631a6f90",
   "metadata": {},
   "outputs": [],
   "source": [
    "def handle_missing_values(df, prop_required_col, prop_required_row):\n",
    "    \n",
    "    drop_cols = round(prop_required_col * len(df))\n",
    "    df.dropna(thresh=drop_cols, axis=1, inplace=True)\n",
    "\n",
    "    drop_rows = round(prop_required_row * len(df.columns))\n",
    "    df.dropna(thresh=drop_rows, axis=0, inplace=True)\n",
    "    \n",
    "\n",
    "\n",
    "    return df"
   ]
  },
  {
   "cell_type": "code",
   "execution_count": null,
   "id": "d9b07e1c",
   "metadata": {},
   "outputs": [],
   "source": []
  },
  {
   "cell_type": "code",
   "execution_count": null,
   "id": "25805d97",
   "metadata": {},
   "outputs": [],
   "source": []
  }
 ],
 "metadata": {
  "kernelspec": {
   "display_name": "Python 3 (ipykernel)",
   "language": "python",
   "name": "python3"
  },
  "language_info": {
   "codemirror_mode": {
    "name": "ipython",
    "version": 3
   },
   "file_extension": ".py",
   "mimetype": "text/x-python",
   "name": "python",
   "nbconvert_exporter": "python",
   "pygments_lexer": "ipython3",
   "version": "3.9.13"
  }
 },
 "nbformat": 4,
 "nbformat_minor": 5
}
